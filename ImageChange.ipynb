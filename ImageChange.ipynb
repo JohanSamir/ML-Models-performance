{
 "cells": [
  {
   "cell_type": "code",
   "execution_count": 19,
   "metadata": {},
   "outputs": [],
   "source": [
    "import os\n",
    "path = '/home/johan/Desktop/UAO Projects_2 final/Inference of Depth/Depth_ Stimation_JS/image_Depth'\n",
    "files = os.listdir(path)\n",
    "files = sorted(files)\n",
    "#print (files) \n",
    "i = 1\n",
    "for file in files:\n",
    "    os.rename(os.path.join(path, file), os.path.join(path, 'img'+str(i)+'.png'))\n",
    "    i = i+1\n",
    "    http://localhost:8888/notebooks/Desktop/UAO%20Projects_2%20final/Inference%20of%20Depth%20PACTHES/Depth_%20Stimation_JS/ImageChange.ipynb"
   ]
  },
  {
   "cell_type": "code",
   "execution_count": 21,
   "metadata": {},
   "outputs": [],
   "source": [
    "import os\n",
    "path = '/home/johan/Desktop/UAO Projects_2 final/Inference of Depth/Depth_ Stimation_JS/groundtruth_Depth'\n",
    "files = os.listdir(path)\n",
    "files = sorted(files)\n",
    "i = 1\n",
    "\n",
    "for file in files:\n",
    "    os.rename(os.path.join(path, file), os.path.join(path, 'depth'+str(i)+'.png'))\n",
    "    i = i+1"
   ]
  },
  {
   "cell_type": "code",
   "execution_count": 32,
   "metadata": {},
   "outputs": [
    {
     "name": "stdout",
     "output_type": "stream",
     "text": [
      "ready\n"
     ]
    }
   ],
   "source": [
    "import os\n",
    "path = '/home/johan/Desktop/UAO Projects_2 final/Inference of Depth PACTHES/Depth_ Stimation_JS/Patches'\n",
    "files = os.listdir(path)\n",
    "files = sorted(files)\n",
    "#c = 0\n",
    "for file in files[0:len(files):3]:\n",
    "    #c = c+1\n",
    "    #os.remove(file)\n",
    "    os.remove('/home/johan/Desktop/UAO Projects_2 final/Inference of Depth PACTHES/Depth_ Stimation_JS/Patches/'+str(file))\n",
    "    #print('/home/johan/Desktop/UAO Projects_2 final/Inference of Depth PACTHES/Depth_ Stimation_JS/Patches'+str(file))\n",
    "#print('c',c)\n",
    "print('ready')"
   ]
  }
 ],
 "metadata": {
  "kernelspec": {
   "display_name": "Python 3",
   "language": "python",
   "name": "python3"
  },
  "language_info": {
   "codemirror_mode": {
    "name": "ipython",
    "version": 3
   },
   "file_extension": ".py",
   "mimetype": "text/x-python",
   "name": "python",
   "nbconvert_exporter": "python",
   "pygments_lexer": "ipython3",
   "version": "3.5.2"
  },
  "varInspector": {
   "cols": {
    "lenName": 16,
    "lenType": 16,
    "lenVar": 40
   },
   "kernels_config": {
    "python": {
     "delete_cmd_postfix": "",
     "delete_cmd_prefix": "del ",
     "library": "var_list.py",
     "varRefreshCmd": "print(var_dic_list())"
    },
    "r": {
     "delete_cmd_postfix": ") ",
     "delete_cmd_prefix": "rm(",
     "library": "var_list.r",
     "varRefreshCmd": "cat(var_dic_list()) "
    }
   },
   "types_to_exclude": [
    "module",
    "function",
    "builtin_function_or_method",
    "instance",
    "_Feature"
   ],
   "window_display": false
  }
 },
 "nbformat": 4,
 "nbformat_minor": 2
}
